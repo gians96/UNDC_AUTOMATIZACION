{
 "cells": [
  {
   "cell_type": "code",
   "execution_count": 10,
   "id": "11d4a008",
   "metadata": {},
   "outputs": [
    {
     "name": "stdout",
     "output_type": "stream",
     "text": [
      "ASISTENTE MARIA GUADALUPE VALIENTE CAMPOS.pdf\n",
      "ASISTENTE LESLY ELIZABETH TORRES CHUMBIAUCA.pdf\n",
      "ASISTENTE LAURA VANESSA ZAMUDIO RAMIREZ RAMIREZ.pdf\n",
      "ASISTENTE  MARLENI MENDOZA ZUÑIGA.pdf\n",
      "ASISTENTE GISSELLA NATALY URBINA SOLÍS.pdf\n",
      "ASISTENTE WILLIS RUFINI PALOMINO CORTEZ.pdf\n",
      "ASISTENTE NAOMI GRACIELA ROBLES ROJAS.pdf\n",
      "ASISTENTE ROSARIO DEL PILAR VEGA YEPEZ.pdf\n",
      "ASISTENTE CELINDA CONSUELO BURGA TARRILLO.pdf\n",
      "ASISTENTE GIOVANNA ROCÍO PIZARRO OSORIO.pdf\n",
      "ASISTENTE MIRIAM VIVIANA ÑAÑEZ SILVA.pdf\n",
      "ASISTENTE ALBERTO BUENO RAMON OSORIO.pdf\n",
      "ORGANIZADOR MARIA GUADALUPE VALIENTE CAMPOS.pdf\n",
      "ORGANIZADOR ALBERTO BUENO RAMON OSORIO.pdf\n",
      "ORGANIZADOR NIEVES ELVA BAÑOS CHAPARRO.pdf\n",
      "ORGANIZADOR FILIBERTO FERNANDO OCHOA PAREDES.pdf\n",
      "ORGANIZADOR SEGUNDO WALDEMAR RIOS RIOS.pdf\n",
      "ORGANIZADOR JULIO CESAR LUJAN MINAYA.pdf\n",
      "ORGANIZADOR VICTOR CARMELINO VARGAS GODOY.pdf\n",
      "ORGANIZADOR YRENE CECILIA URIBE HERNANDEZ.pdf\n",
      "ORGANIZADOR MENDOZA PORTOLATINO NELLY RUTH.pdf\n",
      "ASISTENTE NIEVES ELVA BAÑOS CHAPARRO.pdf\n",
      "ASISTENTE FILIBERTO FERNANDO OCHOA PAREDES.pdf\n",
      "ASISTENTE SEGUNDO WALDEMAR RIOS RIOS.pdf\n",
      "ASISTENTE JULIO CESAR LUJAN MINAYA.pdf\n",
      "ASISTENTE VICTOR CARMELINO VARGAS GODOY.pdf\n",
      "ASISTENTE YRENE CECILIA URIBE HERNANDEZ.pdf\n",
      "ASISTENTE MENDOZA PORTOLATINO NELLY RUTH.pdf\n"
     ]
    }
   ],
   "source": [
    "import os\n",
    "path = r\"C:\\Users\\HP\\Desktop\\UNDC\\2024\\TURISMO\\CERTIFICADOS\\2 TALLER ESTRATEGIAS PARA EL DESARROLLO\\ilovepdf_extracted-pages\"\n",
    "\n",
    "os.chdir(path)\n",
    "file_list = filter((lambda x: '.pdf' in x),os.listdir(path+\"\"))\n",
    "\n",
    "import pandas as pd\n",
    "#Listar apellidos y nombres de los alumnos\n",
    "def names_Files():\n",
    "    nameFile = []\n",
    "    \n",
    "    df = pd.read_excel(r\"C:\\Users\\HP\\Desktop\\UNDC\\2024\\TURISMO\\CERTIFICADOS\\2 TALLER ESTRATEGIAS PARA EL DESARROLLO\\CERTIFICADO.xlsx\")\n",
    "    for row, datos in df.iterrows():\n",
    "        try:\n",
    "            nameFile.append(datos['N']+ \" \" +datos['tipo de usuario']+\" \"+datos['apellidos']+\" \"+datos['nombres']+\".pdf\")\n",
    "        except:\n",
    "            nameFile.append(datos['tipo de usuario']+\" \"+datos['nombres']+\".pdf\")\n",
    "    return nameFile\n",
    "\n",
    "cont = 1\n",
    "for i in file_list:\n",
    "    #print(\"file: \"+i)\n",
    "    try:\n",
    "        x =i.replace(\".pdf\",\"\").split(\"-\")\n",
    "        os.rename(i,names_Files()[int(x[1])-1])\n",
    "        print(names_Files()[int(x[1])-1])\n",
    "        cont = cont + 1\n",
    "    except:\n",
    "        print(\">>> That file didnt work for some reason.\")"
   ]
  },
  {
   "cell_type": "code",
   "execution_count": null,
   "id": "8494197b",
   "metadata": {},
   "outputs": [],
   "source": [
    "def names_Files():\n",
    "    nameFile = []\n",
    "    \n",
    "    df = pd.read_excel(r\"D:\\FORMATEO\\Desktop\\UNDC\\2023-1\\EVENTOS\\USO DE MODELOS AGROMETEOROLÓGICOS PARA EVALUAR LOS IMPACTOS DEL CLIMA EN LOS CULTIVOS\\CERTIFICADO.xlsx\")\n",
    "    for row, datos in df.iterrows():\n",
    "        nameFile.append(datos['tipo de usuario']+\" \"+datos['apellidos']+\" \"+datos['nombres']+\".pdf\")\n",
    "    return nameFile\n",
    "print"
   ]
  }
 ],
 "metadata": {
  "kernelspec": {
   "display_name": "Python 3 (ipykernel)",
   "language": "python",
   "name": "python3"
  },
  "language_info": {
   "codemirror_mode": {
    "name": "ipython",
    "version": 3
   },
   "file_extension": ".py",
   "mimetype": "text/x-python",
   "name": "python",
   "nbconvert_exporter": "python",
   "pygments_lexer": "ipython3",
   "version": "3.11.5"
  }
 },
 "nbformat": 4,
 "nbformat_minor": 5
}
