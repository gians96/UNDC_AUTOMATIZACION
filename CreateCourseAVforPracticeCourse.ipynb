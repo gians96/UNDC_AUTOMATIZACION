{
 "cells": [
  {
   "cell_type": "code",
   "execution_count": 20,
   "id": "61716dc6",
   "metadata": {},
   "outputs": [],
   "source": [
    "from selenium import webdriver\n",
    "from selenium.webdriver.common.by import By\n",
    "import time\n",
    "from selenium.webdriver.chrome.service import Service\n",
    "from webdriver_manager.chrome import ChromeDriverManager\n",
    "import os\n",
    "simp_path = '.env'\n",
    "abs_path = os.path.abspath(simp_path)\n",
    "CREDENTIAL={'EMAIL':'','PASSWORD':''}\n",
    "with open(abs_path,\"r\") as archivo:\n",
    "    for linea in archivo:        \n",
    "        if (str(linea.strip('\\n')).split('='))[0] == \"EMAIL\":\n",
    "            CREDENTIAL[\"EMAIL\"]=(str(linea.strip('\\n')).split('='))[1]\n",
    "        if (str(linea.strip('\\n')).split('='))[0] == \"PASSWORD\":\n",
    "            CREDENTIAL[\"PASSWORD\"]=(str(linea.strip('\\n')).split('='))[1]\n",
    "driver = webdriver.Chrome(service=Service(ChromeDriverManager().install()))\n",
    "#abrir formulario\n",
    "\n",
    "\n",
    "driver.get('https://aula.undc.edu.pe/admin/user.php')\n",
    "driver.find_element(by=By.XPATH, value='//*[@class=\"btn login-identityprovider-btn btn-block\"]').click()\n",
    "driver.find_element(by=By.XPATH, value='//*[@id=\"identifierId\"]').send_keys(CREDENTIAL[\"EMAIL\"])\n",
    "driver.find_element(by=By.XPATH, value='//*[@id=\"identifierNext\"]/div/button/span').click()\n",
    "time.sleep(2)\n",
    "driver.find_element(by=By.XPATH, value='//*[@id=\"password\"]/div[1]/div/div[1]/input').send_keys(CREDENTIAL[\"PASSWORD\"])\n",
    "driver.find_element(by=By.XPATH, value='//*[@id=\"passwordNext\"]/div/button/span').click()\n",
    "time.sleep(2)"
   ]
  },
  {
   "cell_type": "code",
   "execution_count": 25,
   "id": "25c673b3",
   "metadata": {},
   "outputs": [],
   "source": [
    "import pandas as pd\n",
    "from selenium.common.exceptions import NoSuchElementException\n",
    "import time\n",
    "df = pd.read_excel('EXCEL_TRABAJADO/2023-1dl_av.xlsx')\n",
    "###########################################CREACION DE METODOS#################################################################\n",
    "driver.get('https://aula.undc.edu.pe/admin/user.php')\n",
    "###########################################CREACION DE METODOS#################################################################\n",
    "    \n",
    "for row, datos in df.iterrows():\n",
    "    #nombre de la columna\n",
    "\n",
    "\n",
    "    if datos['FLAG'] == 'SI':\n",
    "        name_course = datos['NAME_CURSO']\n",
    "        short_name = datos['NAME_SHORT']\n",
    "        driver.get(datos['REG_CUR_LINK'])\n",
    "        \n",
    "        #AÑADIR NOMBRE COMPLETO CURSO\n",
    "        driver.find_element(by=By.XPATH, value='//*[@id=\"id_fullname\"]').send_keys(name_course)\n",
    "        time.sleep(0.3)\n",
    "        #AÑADIR NOMBRE CORTO CURSO\n",
    "        driver.find_element(by=By.XPATH, value='//*[@id=\"id_shortname\"]').send_keys(short_name)\n",
    "        time.sleep(0.3)\n",
    "        #BOTON GUARDA Y VOLVER\n",
    "        driver.find_element(by=By.XPATH, value='//*[@id=\"id_saveandreturn\"]').click()\n"
   ]
  },
  {
   "cell_type": "code",
   "execution_count": 16,
   "id": "73a9243e",
   "metadata": {},
   "outputs": [
    {
     "ename": "InvalidArgumentException",
     "evalue": "Message: invalid argument\n  (Session info: chrome=112.0.5615.138)\nStacktrace:\nBacktrace:\n\tGetHandleVerifier [0x0092DCE3+50899]\n\t(No symbol) [0x008BE111]\n\t(No symbol) [0x007C5450]\n\t(No symbol) [0x007B879A]\n\t(No symbol) [0x007B7118]\n\t(No symbol) [0x007B7668]\n\t(No symbol) [0x007C6D22]\n\t(No symbol) [0x0081E631]\n\t(No symbol) [0x0080B8FC]\n\t(No symbol) [0x0081E01C]\n\t(No symbol) [0x0080B6F6]\n\t(No symbol) [0x007E7708]\n\t(No symbol) [0x007E886D]\n\tGetHandleVerifier [0x00B93EAE+2566302]\n\tGetHandleVerifier [0x00BC92B1+2784417]\n\tGetHandleVerifier [0x00BC327C+2759788]\n\tGetHandleVerifier [0x009C5740+672048]\n\t(No symbol) [0x008C8872]\n\t(No symbol) [0x008C41C8]\n\t(No symbol) [0x008C42AB]\n\t(No symbol) [0x008B71B7]\n\tBaseThreadInitThunk [0x76930099+25]\n\tRtlGetAppContainerNamedObjectPath [0x77687B6E+286]\n\tRtlGetAppContainerNamedObjectPath [0x77687B3E+238]\n",
     "output_type": "error",
     "traceback": [
      "\u001b[1;31m---------------------------------------------------------------------------\u001b[0m",
      "\u001b[1;31mInvalidArgumentException\u001b[0m                  Traceback (most recent call last)",
      "\u001b[1;32m~\\AppData\\Local\\Temp\\ipykernel_11536\\1492265904.py\u001b[0m in \u001b[0;36m<module>\u001b[1;34m\u001b[0m\n\u001b[1;32m----> 1\u001b[1;33m \u001b[0mdriver\u001b[0m\u001b[1;33m.\u001b[0m\u001b[0mget\u001b[0m\u001b[1;33m(\u001b[0m\u001b[1;34m\"www.google.com\"\u001b[0m\u001b[1;33m)\u001b[0m\u001b[1;33m\u001b[0m\u001b[1;33m\u001b[0m\u001b[0m\n\u001b[0m",
      "\u001b[1;32m~\\anaconda3\\lib\\site-packages\\selenium\\webdriver\\remote\\webdriver.py\u001b[0m in \u001b[0;36mget\u001b[1;34m(self, url)\u001b[0m\n\u001b[0;32m    447\u001b[0m     \u001b[1;32mdef\u001b[0m \u001b[0mget\u001b[0m\u001b[1;33m(\u001b[0m\u001b[0mself\u001b[0m\u001b[1;33m,\u001b[0m \u001b[0murl\u001b[0m\u001b[1;33m:\u001b[0m \u001b[0mstr\u001b[0m\u001b[1;33m)\u001b[0m \u001b[1;33m->\u001b[0m \u001b[1;32mNone\u001b[0m\u001b[1;33m:\u001b[0m\u001b[1;33m\u001b[0m\u001b[1;33m\u001b[0m\u001b[0m\n\u001b[0;32m    448\u001b[0m         \u001b[1;34m\"\"\"Loads a web page in the current browser session.\"\"\"\u001b[0m\u001b[1;33m\u001b[0m\u001b[1;33m\u001b[0m\u001b[0m\n\u001b[1;32m--> 449\u001b[1;33m         \u001b[0mself\u001b[0m\u001b[1;33m.\u001b[0m\u001b[0mexecute\u001b[0m\u001b[1;33m(\u001b[0m\u001b[0mCommand\u001b[0m\u001b[1;33m.\u001b[0m\u001b[0mGET\u001b[0m\u001b[1;33m,\u001b[0m \u001b[1;33m{\u001b[0m\u001b[1;34m\"url\"\u001b[0m\u001b[1;33m:\u001b[0m \u001b[0murl\u001b[0m\u001b[1;33m}\u001b[0m\u001b[1;33m)\u001b[0m\u001b[1;33m\u001b[0m\u001b[1;33m\u001b[0m\u001b[0m\n\u001b[0m\u001b[0;32m    450\u001b[0m \u001b[1;33m\u001b[0m\u001b[0m\n\u001b[0;32m    451\u001b[0m     \u001b[1;33m@\u001b[0m\u001b[0mproperty\u001b[0m\u001b[1;33m\u001b[0m\u001b[1;33m\u001b[0m\u001b[0m\n",
      "\u001b[1;32m~\\anaconda3\\lib\\site-packages\\selenium\\webdriver\\remote\\webdriver.py\u001b[0m in \u001b[0;36mexecute\u001b[1;34m(self, driver_command, params)\u001b[0m\n\u001b[0;32m    438\u001b[0m         \u001b[0mresponse\u001b[0m \u001b[1;33m=\u001b[0m \u001b[0mself\u001b[0m\u001b[1;33m.\u001b[0m\u001b[0mcommand_executor\u001b[0m\u001b[1;33m.\u001b[0m\u001b[0mexecute\u001b[0m\u001b[1;33m(\u001b[0m\u001b[0mdriver_command\u001b[0m\u001b[1;33m,\u001b[0m \u001b[0mparams\u001b[0m\u001b[1;33m)\u001b[0m\u001b[1;33m\u001b[0m\u001b[1;33m\u001b[0m\u001b[0m\n\u001b[0;32m    439\u001b[0m         \u001b[1;32mif\u001b[0m \u001b[0mresponse\u001b[0m\u001b[1;33m:\u001b[0m\u001b[1;33m\u001b[0m\u001b[1;33m\u001b[0m\u001b[0m\n\u001b[1;32m--> 440\u001b[1;33m             \u001b[0mself\u001b[0m\u001b[1;33m.\u001b[0m\u001b[0merror_handler\u001b[0m\u001b[1;33m.\u001b[0m\u001b[0mcheck_response\u001b[0m\u001b[1;33m(\u001b[0m\u001b[0mresponse\u001b[0m\u001b[1;33m)\u001b[0m\u001b[1;33m\u001b[0m\u001b[1;33m\u001b[0m\u001b[0m\n\u001b[0m\u001b[0;32m    441\u001b[0m             \u001b[0mresponse\u001b[0m\u001b[1;33m[\u001b[0m\u001b[1;34m\"value\"\u001b[0m\u001b[1;33m]\u001b[0m \u001b[1;33m=\u001b[0m \u001b[0mself\u001b[0m\u001b[1;33m.\u001b[0m\u001b[0m_unwrap_value\u001b[0m\u001b[1;33m(\u001b[0m\u001b[0mresponse\u001b[0m\u001b[1;33m.\u001b[0m\u001b[0mget\u001b[0m\u001b[1;33m(\u001b[0m\u001b[1;34m\"value\"\u001b[0m\u001b[1;33m,\u001b[0m \u001b[1;32mNone\u001b[0m\u001b[1;33m)\u001b[0m\u001b[1;33m)\u001b[0m\u001b[1;33m\u001b[0m\u001b[1;33m\u001b[0m\u001b[0m\n\u001b[0;32m    442\u001b[0m             \u001b[1;32mreturn\u001b[0m \u001b[0mresponse\u001b[0m\u001b[1;33m\u001b[0m\u001b[1;33m\u001b[0m\u001b[0m\n",
      "\u001b[1;32m~\\anaconda3\\lib\\site-packages\\selenium\\webdriver\\remote\\errorhandler.py\u001b[0m in \u001b[0;36mcheck_response\u001b[1;34m(self, response)\u001b[0m\n\u001b[0;32m    243\u001b[0m                 \u001b[0malert_text\u001b[0m \u001b[1;33m=\u001b[0m \u001b[0mvalue\u001b[0m\u001b[1;33m[\u001b[0m\u001b[1;34m\"alert\"\u001b[0m\u001b[1;33m]\u001b[0m\u001b[1;33m.\u001b[0m\u001b[0mget\u001b[0m\u001b[1;33m(\u001b[0m\u001b[1;34m\"text\"\u001b[0m\u001b[1;33m)\u001b[0m\u001b[1;33m\u001b[0m\u001b[1;33m\u001b[0m\u001b[0m\n\u001b[0;32m    244\u001b[0m             \u001b[1;32mraise\u001b[0m \u001b[0mexception_class\u001b[0m\u001b[1;33m(\u001b[0m\u001b[0mmessage\u001b[0m\u001b[1;33m,\u001b[0m \u001b[0mscreen\u001b[0m\u001b[1;33m,\u001b[0m \u001b[0mstacktrace\u001b[0m\u001b[1;33m,\u001b[0m \u001b[0malert_text\u001b[0m\u001b[1;33m)\u001b[0m  \u001b[1;31m# type: ignore[call-arg]  # mypy is not smart enough here\u001b[0m\u001b[1;33m\u001b[0m\u001b[1;33m\u001b[0m\u001b[0m\n\u001b[1;32m--> 245\u001b[1;33m         \u001b[1;32mraise\u001b[0m \u001b[0mexception_class\u001b[0m\u001b[1;33m(\u001b[0m\u001b[0mmessage\u001b[0m\u001b[1;33m,\u001b[0m \u001b[0mscreen\u001b[0m\u001b[1;33m,\u001b[0m \u001b[0mstacktrace\u001b[0m\u001b[1;33m)\u001b[0m\u001b[1;33m\u001b[0m\u001b[1;33m\u001b[0m\u001b[0m\n\u001b[0m",
      "\u001b[1;31mInvalidArgumentException\u001b[0m: Message: invalid argument\n  (Session info: chrome=112.0.5615.138)\nStacktrace:\nBacktrace:\n\tGetHandleVerifier [0x0092DCE3+50899]\n\t(No symbol) [0x008BE111]\n\t(No symbol) [0x007C5450]\n\t(No symbol) [0x007B879A]\n\t(No symbol) [0x007B7118]\n\t(No symbol) [0x007B7668]\n\t(No symbol) [0x007C6D22]\n\t(No symbol) [0x0081E631]\n\t(No symbol) [0x0080B8FC]\n\t(No symbol) [0x0081E01C]\n\t(No symbol) [0x0080B6F6]\n\t(No symbol) [0x007E7708]\n\t(No symbol) [0x007E886D]\n\tGetHandleVerifier [0x00B93EAE+2566302]\n\tGetHandleVerifier [0x00BC92B1+2784417]\n\tGetHandleVerifier [0x00BC327C+2759788]\n\tGetHandleVerifier [0x009C5740+672048]\n\t(No symbol) [0x008C8872]\n\t(No symbol) [0x008C41C8]\n\t(No symbol) [0x008C42AB]\n\t(No symbol) [0x008B71B7]\n\tBaseThreadInitThunk [0x76930099+25]\n\tRtlGetAppContainerNamedObjectPath [0x77687B6E+286]\n\tRtlGetAppContainerNamedObjectPath [0x77687B3E+238]\n"
     ]
    }
   ],
   "source": []
  }
 ],
 "metadata": {
  "kernelspec": {
   "display_name": "Python 3 (ipykernel)",
   "language": "python",
   "name": "python3"
  },
  "language_info": {
   "codemirror_mode": {
    "name": "ipython",
    "version": 3
   },
   "file_extension": ".py",
   "mimetype": "text/x-python",
   "name": "python",
   "nbconvert_exporter": "python",
   "pygments_lexer": "ipython3",
   "version": "3.9.13"
  }
 },
 "nbformat": 4,
 "nbformat_minor": 5
}
