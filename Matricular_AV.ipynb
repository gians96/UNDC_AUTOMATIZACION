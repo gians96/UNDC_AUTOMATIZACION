{
 "cells": [
  {
   "cell_type": "code",
   "execution_count": 2,
   "id": "8a6b3f69",
   "metadata": {},
   "outputs": [],
   "source": [
    "from selenium import webdriver\n",
    "from selenium.webdriver.common.by import By\n",
    "import time\n",
    "from selenium.webdriver.chrome.service import Service\n",
    "from webdriver_manager.chrome import ChromeDriverManager\n",
    "import os\n",
    "simp_path = '.env'\n",
    "abs_path = os.path.abspath(simp_path)\n",
    "CREDENTIAL={'EMAIL':'','PASSWORD':''}\n",
    "with open(abs_path,\"r\") as archivo:\n",
    "    for linea in archivo:        \n",
    "        if (str(linea.strip('\\n')).split('='))[0] == \"EMAIL\":\n",
    "            CREDENTIAL[\"EMAIL\"]=(str(linea.strip('\\n')).split('='))[1]\n",
    "        if (str(linea.strip('\\n')).split('='))[0] == \"PASSWORD\":\n",
    "            CREDENTIAL[\"PASSWORD\"]=(str(linea.strip('\\n')).split('='))[1]\n",
    "driver = webdriver.Chrome(service=Service(ChromeDriverManager().install()))\n",
    "#abrir formulario\n",
    "\n",
    "\n",
    "driver.get('https://aula.undc.edu.pe/admin/user.php')\n",
    "driver.find_element(by=By.XPATH, value='//*[@class=\"btn login-identityprovider-btn btn-block \"]').click()\n",
    "driver.find_element(by=By.XPATH, value='//*[@id=\"identifierId\"]').send_keys(CREDENTIAL[\"EMAIL\"])\n",
    "driver.find_element(by=By.XPATH, value='//*[@id=\"identifierNext\"]/div/button/span').click()\n",
    "time.sleep(2)\n",
    "for j in range(10):\n",
    "    try:\n",
    "        driver.find_element(by=By.XPATH, value='//*[@id=\"password\"]/div[1]/div/div[1]/input').send_keys(CREDENTIAL[\"PASSWORD\"])\n",
    "        driver.find_element(by=By.XPATH, value='//*[@id=\"passwordNext\"]/div/button/span').click()\n",
    "        break\n",
    "    except:\n",
    "        time.sleep(1)\n",
    "#driver.find_element(by=By.XPATH, value='//*[@id=\"password\"]/div[1]/div/div[1]/input').send_keys(CREDENTIAL[\"PASSWORD\"])\n",
    "#driver.find_element(by=By.XPATH, value='//*[@id=\"passwordNext\"]/div/button/span').click()\n",
    "time.sleep(2)"
   ]
  },
  {
   "cell_type": "code",
   "execution_count": 62,
   "id": "06854a0c",
   "metadata": {
    "scrolled": false
   },
   "outputs": [
    {
     "name": "stdout",
     "output_type": "stream",
     "text": [
      "https://aula.undc.edu.pe/user/index.php?id=12\n",
      "https://aula.undc.edu.pe/user/index.php?id=17\n",
      "https://aula.undc.edu.pe/user/index.php?id=13\n",
      "No se encontro: 1747884111\n",
      "https://aula.undc.edu.pe/user/index.php?id=14\n",
      "https://aula.undc.edu.pe/user/index.php?id=15\n",
      "No se encontro: 1971585635\n",
      "https://aula.undc.edu.pe/user/index.php?id=16\n",
      "No se encontro: 1971585635\n",
      "No se encontro: 1573016801\n"
     ]
    }
   ],
   "source": [
    "# import pandas as pd\n",
    "#NOTA: antes de ejecutar el script, copiar la imagen en clipboard.(click derecho copiar, o ctrl+c)\n",
    "#nombre del excel que contiene los nombres de los grupos de whatsapp\n",
    "import pandas as pd\n",
    "from selenium.webdriver.common.action_chains import ActionChains\n",
    "import re\n",
    "from selenium.common.exceptions import NoSuchElementException\n",
    "import time\n",
    "df = pd.read_excel('EXCEL_TRABAJADO/matricular.xlsx')\n",
    "urltemp=\"\"\n",
    "###########################################CREACION DE METODOS#################################################################\n",
    "def matricular(usern):\n",
    "    try:\n",
    "        #Escribir en el input buscar\n",
    "        driver.find_element(by=By.XPATH, value='/html/body/div[4]/div[2]/div/div/div[2]/form/fieldset/div/div[1]/div[2]/div[3]/input').send_keys(usern)\n",
    "        time.sleep(1.8)\n",
    "        if driver.find_element(by=By.XPATH, value='/html/body/div[4]/div[2]/div/div/div[2]/form/fieldset/div/div[1]/div[2]/ul').text != \"No hay sugerencias\":\n",
    "            #Da clic para agregar al matriculado\n",
    "            driver.find_element(by=By.XPATH, value='/html/body/div[4]/div[2]/div/div/div[2]/form/fieldset/div/div[1]/div[2]/ul/li').click()\n",
    "        else:\n",
    "            print(\"No se encontro: \"+str(usern))\n",
    "        \n",
    "        time.sleep(0.8)\n",
    "        #limpia el input\n",
    "        driver.find_element(by=By.XPATH, value='/html/body/div[4]/div[2]/div/div/div[2]/form/fieldset/div/div[1]/div[2]/div[3]/input').clear()\n",
    "        time.sleep(1)\n",
    "    except NoSuchElementException:\n",
    "        print(\"No se encontro: \"+usern)\n",
    "        driver.find_element(by=By.XPATH, value='/html/body/div[4]/div[2]/div/div/div[2]/form/fieldset/div/div[1]/div[2]/div[3]/input').clear()\n",
    "###########################################CREACION DE METODOS#################################################################\n",
    "\n",
    "for row, datos in df.iterrows():\n",
    "    try:\n",
    "        #nombre de la columna\n",
    "        url = datos['LINK_AV']\n",
    "        username = datos['username']\n",
    "        if datos['FLAG'] == 'SI':\n",
    "            if urltemp==url:\n",
    "                #print(username)\n",
    "                matricular(username)\n",
    "            else:\n",
    "                if urltemp!=\"\":\n",
    "                    driver.find_element(by=By.XPATH, value='/html/body/div[4]/div[2]/div/div/div[3]/button[1]').click()\n",
    "                urltemp=url\n",
    "                #BOTON MATRICULAR\n",
    "                time.sleep(3)\n",
    "                driver.get(url)\n",
    "                time.sleep(2.5)\n",
    "                print(url)\n",
    "                #Da clicl en el input matricular usuario\n",
    "                driver.find_element(by=By.XPATH, value='//*[@id=\"enrolusersbutton-1\"]/div/input[1]').click()\n",
    "                time.sleep(2)\n",
    "                matricular(username)    \n",
    "    except NoSuchElementException:\n",
    "        print(\"No se encontro: \"+username)\n",
    "        driver.find_element(by=By.XPATH, value='/html/body/div[4]/div[2]/div/div/div[2]/form/fieldset/div/div[1]/div[2]/div[3]/input').clear()\n",
    "driver.find_element(by=By.XPATH, value='/html/body/div[4]/div[2]/div/div/div[3]/button[1]').click()"
   ]
  },
  {
   "cell_type": "code",
   "execution_count": 51,
   "id": "e06c73b1",
   "metadata": {},
   "outputs": [
    {
     "data": {
      "text/plain": [
       "'No hay sugerencias'"
      ]
     },
     "execution_count": 51,
     "metadata": {},
     "output_type": "execute_result"
    }
   ],
   "source": [
    "driver.find_element(by=By.XPATH, value='/html/body/div[4]/div[2]/div/div/div[2]/form/fieldset/div/div[1]/div[2]/ul').text"
   ]
  }
 ],
 "metadata": {
  "kernelspec": {
   "display_name": "Python 3 (ipykernel)",
   "language": "python",
   "name": "python3"
  },
  "language_info": {
   "codemirror_mode": {
    "name": "ipython",
    "version": 3
   },
   "file_extension": ".py",
   "mimetype": "text/x-python",
   "name": "python",
   "nbconvert_exporter": "python",
   "pygments_lexer": "ipython3",
   "version": "3.9.13"
  }
 },
 "nbformat": 4,
 "nbformat_minor": 5
}
