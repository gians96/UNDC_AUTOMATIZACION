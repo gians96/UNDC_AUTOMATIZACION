{
 "cells": [
  {
   "cell_type": "code",
   "execution_count": 1,
   "id": "4bc4c006",
   "metadata": {},
   "outputs": [],
   "source": [
    "from selenium import webdriver\n",
    "from selenium.webdriver.common.by import By\n",
    "import time\n",
    "from selenium.webdriver.chrome.service import Service\n",
    "from webdriver_manager.chrome import ChromeDriverManager\n",
    "import os\n",
    "simp_path = '.env'\n",
    "abs_path = os.path.abspath(simp_path)\n",
    "CREDENTIAL={'EMAIL':'','PASSWORD':''}\n",
    "with open(abs_path,\"r\") as archivo:\n",
    "    for linea in archivo:        \n",
    "        if (str(linea.strip('\\n')).split('='))[0] == \"EMAIL\":\n",
    "            CREDENTIAL[\"EMAIL\"]=(str(linea.strip('\\n')).split('='))[1]\n",
    "        if (str(linea.strip('\\n')).split('='))[0] == \"PASSWORD\":\n",
    "            CREDENTIAL[\"PASSWORD\"]=(str(linea.strip('\\n')).split('='))[1]\n",
    "driver = webdriver.Chrome(service=Service(ChromeDriverManager().install()))\n",
    "#abrir formulario\n",
    "\n",
    "\n",
    "driver.get('https://aula.undc.edu.pe/admin/user.php')\n",
    "driver.find_element(by=By.XPATH, value='//*[@id=\"region-main\"]/div/div[2]/div/div/div/div/div/div[2]/div[4]/div/a').click()\n",
    "driver.find_element(by=By.XPATH, value='//*[@id=\"identifierId\"]').send_keys(CREDENTIAL[\"EMAIL\"])\n",
    "driver.find_element(by=By.XPATH, value='//*[@id=\"identifierNext\"]/div/button/span').click()\n",
    "time.sleep(2)\n",
    "driver.find_element(by=By.XPATH, value='//*[@id=\"password\"]/div[1]/div/div[1]/input').send_keys(CREDENTIAL[\"PASSWORD\"])\n",
    "driver.find_element(by=By.XPATH, value='//*[@id=\"passwordNext\"]/div/button/span').click()\n",
    "time.sleep(2)"
   ]
  },
  {
   "cell_type": "code",
   "execution_count": 51,
   "id": "ffc33d6a",
   "metadata": {},
   "outputs": [
    {
     "name": "stdout",
     "output_type": "stream",
     "text": [
      "II-M-ACULTURA AMBIENTAL - 2767.mbz\n",
      "II-T-BCULTURA AMBIENTAL - 2773.mbz\n",
      "II-M-AANÁLISIS MATEMÁTICO - 2763.mbz\n",
      "II-T-BANÁLISIS MATEMÁTICO - 2769.mbz\n",
      "II-M-AFÍSICA - 2764.mbz\n",
      "II-T-BFÍSICA - 2770.mbz\n",
      "II-M-AQUÍMICA GENERAL - 2765.mbz\n",
      "II-T-BQUÍMICA GENERAL - 2771.mbz\n",
      "II-M-ABOTÁNICA GENERAL - 2766.mbz\n",
      "II-T-BBOTÁNICA GENERAL - 2772.mbz\n",
      "II-M-AINFORMÁTICA - 2768.mbz\n",
      "II-T-BINFORMÁTICA - 2774.mbz\n",
      "IV-M-ABIOQUÍMICA GENERAL - 2776.mbz\n",
      "IV-T-BBIOQUÍMICA GENERAL - 2782.mbz\n",
      "IV-M-AESTADÍSTICA GENERAL - 2777.mbz\n",
      "IV-T-BESTADÍSTICA GENERAL - 2783.mbz\n",
      "IV-M-AFÍSICA II - 2778.mbz\n",
      "IV-T-BFÍSICA II - 2784.mbz\n",
      "IV-M-AAGROECOLOGÍA - 2779.mbz\n",
      "IV-T-BAGROECOLOGÍA - 2785.mbz\n",
      "IV-M-AMICROECONOMÍA - 2780.mbz\n",
      "IV-T-BMICROECONOMÍA - 2786.mbz\n",
      "IV-M-ALIDERAZGO Y TRABAJO EN EQUIPO - 2775.mbz\n",
      "IV-T-BLIDERAZGO Y TRABAJO EN EQUIPO - 2781.mbz\n",
      "V-T-AMECANIZACIÓN AGRÍCOLA - 2788.mbz\n",
      "V-T-AFISIOLOGÍA VEGETAL - 2789.mbz\n",
      "V-T-AGENÉTICA VEGETAL - 2790.mbz\n",
      "V-T-AMETEOROLOGÍA - 2791.mbz\n",
      "V-T-AMICROBIOLOGÍA - 2792.mbz\n",
      "V-T-ACONSTITUCIÓN Y DERECHOS HUMANOS - 2787.mbz\n",
      "V-T-AEDAFOLOGIA - 2793.mbz\n",
      "VI-T-AAGROTECNÍA - 2795.mbz\n",
      "VI-T-AFERTILIDAD DEL SUELO - 2796.mbz\n",
      "VI-T-APROPAGACIÓN DE PLANTAS - 2797.mbz\n",
      "VI-T-AENTOMOLOGÍA GENERAL - 2798.mbz\n",
      "VI-T-ATOPOGRAFÍA - 2799.mbz\n",
      "VI-T-APENSAMIENTO POLÍTICO CONTEMPORÁNEO - 2794.mbz\n",
      "VIII-M-ARAICES Y TUBÉRCULOS - 2800.mbz\n",
      "VIII-T-BRAICES Y TUBÉRCULOS - 2806.mbz\n",
      "VIII-M-AOLERICULTURA - 2801.mbz\n",
      "VIII-T-BOLERICULTURA - 2807.mbz\n",
      "VIII-M-AFRUTICULTURA - 2802.mbz\n",
      "VIII-T-BFRUTICULTURA - 2808.mbz\n",
      "VIII-M-AENTOMOLOGÍA AGRÍCOLA - 2805.mbz\n",
      "VIII-T-BENTOMOLOGÍA AGRÍCOLA - 2811.mbz\n",
      "VIII-M-AMETODOLOGÍA DE INVESTIGACIÓN CIENTÍFICA - 2803.mbz\n",
      "VIII-T-BMETODOLOGÍA DE INVESTIGACIÓN CIENTÍFICA - 2809.mbz\n",
      "VIII-M-APRODUCCIÓN DE SEMILLAS - 2804.mbz\n",
      "VIII-T-BPRODUCCIÓN DE SEMILLAS - 2810.mbz\n",
      "X-M-AFORMULACIÓN Y EVALUACIÓN DE PROYECTOS AGRÍCOLAS - 2812.mbz\n",
      "X-T-BFORMULACIÓN Y EVALUACIÓN DE PROYECTOS AGRÍCOLAS - 2819.mbz\n",
      "X-M-AEXTENSIÓN AGRARIA - 2815.mbz\n",
      "X-T-BEXTENSIÓN AGRARIA - 2822.mbz\n",
      "X-M-AMANEJO INTEGRADO DE PLAGAS Y ENFERMEDADES - 2813.mbz\n",
      "X-T-BMANEJO INTEGRADO DE PLAGAS Y ENFERMEDADES - 2820.mbz\n",
      "X-M-ASEMINARIO DE TESIS II - 2814.mbz\n",
      "X-T-BSEMINARIO DE TESIS II - 2821.mbz\n",
      "X-M-ANUTRICIÓN Y ALIMENTACIÓN ANIMAL - 2816.mbz\n",
      "X-T-BNUTRICIÓN Y ALIMENTACIÓN ANIMAL - 2823.mbz\n",
      "X-M-ACONTROL BIOLÓGICO DE PLAGAS Y ENFERMEDADES - 2817.mbz\n",
      "X-T-BCONTROL BIOLÓGICO DE PLAGAS Y ENFERMEDADES - 2824.mbz\n",
      "X-M-AAGRICULTURA ORGÁNICA Y CERTIFICACIONES - 2818.mbz\n",
      "X-T-BAGRICULTURA ORGÁNICA Y CERTIFICACIONES - 2825.mbz\n",
      "III-M-AMATEMÁTICA II - 2850.mbz\n",
      "I-M-AMATEMÁTICA BÁSICA - 2849.mbz\n",
      "V-T-BEDAFOLOGIA - 2756.mbz\n",
      "TERMINO PROCESO\n"
     ]
    }
   ],
   "source": [
    "## PARA CURSOS QUE SE ENCUENTRAN EN LA PROGRAMACION ACADEMICA\n",
    "import pandas as pd\n",
    "from selenium.webdriver.common.action_chains import ActionChains\n",
    "import re\n",
    "from selenium.common.exceptions import NoSuchElementException\n",
    "import time\n",
    "\n",
    "ciclo=[]\n",
    "turno=[]\n",
    "seccion=[]\n",
    "course=[]\n",
    "linkbackup=[]\n",
    "tamaño=[]\n",
    "\n",
    "\n",
    "###########################################CREACION DE METODOS#################################################################\n",
    "def addLinkExcel():\n",
    "    al = pd.DataFrame({ 'CICLO': ciclo,'TURNO': turno,'SECCION': seccion,'COURSE': course,'BACKUP': linkbackup,'TAMAÑO': tamaño})\n",
    "    al = al[['CICLO', 'CICLO','TURNO','SECCION','COURSE','BACKUP','TAMAÑO']]\n",
    "    writer = pd.ExcelWriter('EXCEL_GENERADOS/LIST_BACKUP_COURSES'+time.strftime(\"%Y%m%d-%H-%M-%S\")+'.xlsx')\n",
    "    al.to_excel(writer, 'Sheet', index=False)\n",
    "    #writer.save()\n",
    "    writer.close()\n",
    "    print(\"TERMINO PROCESO\")\n",
    "###########################################CREACION DE METODOS#################################################################\n",
    "try:\n",
    "    df = pd.read_excel('grupowsp.xlsx')\n",
    "    for row, datos in df.iterrows():\n",
    "        #nombre de la columna\n",
    "        id_course = datos['ID_COURSE']\n",
    "        name_backup = datos['CICLO']+\"-\"+datos['TURNO']+\"-\"+datos['SECCION']+\"-\"+datos['CURSO']+\".mbz\"\n",
    "        \n",
    "        #Dirige directo para el backup\n",
    "        driver.get(\"https://aula.undc.edu.pe/backup/backup.php?id=\"+str(id_course))\n",
    "        driver.find_element(by=By.XPATH, value='//*[@id=\"id_submitbutton\"]').click()\n",
    "        driver.find_element(by=By.XPATH, value='//*[@id=\"id_submitbutton\"]').click()\n",
    "        driver.find_element(by=By.XPATH, value='//*[@id=\"id_setting_root_filename\"]').clear()\n",
    "        time.sleep(0.7)\n",
    "        driver.find_element(by=By.XPATH, value='//*[@id=\"id_setting_root_filename\"]').send_keys(name_backup)\n",
    "        time.sleep(0.7)\n",
    "        #EJECUTA LA COPIA DE LA SEGURIDAD\n",
    "        driver.find_element(by=By.XPATH, value='//*[@id=\"id_submitbutton\"]').click()\n",
    "        time.sleep(3)\n",
    "        ##5 min de espera para backup, con interaciones de 3sg para romper si es correcto\n",
    "        for j in range(100):\n",
    "            try:\n",
    "                #CONTINUAR DESPUES DE LA COPIA DE SEGURIDAD\n",
    "                driver.find_element(by=By.XPATH, value='//*[@class=\"btn btn-primary\"]').click()\n",
    "                time.sleep(2)\n",
    "                break\n",
    "            except NoSuchElementException:\n",
    "                print(\"Aun se esta generando la Copia de seguridad\")\n",
    "                time.sleep(3)\n",
    "        ciclo.append(datos['CICLO'])\n",
    "        turno.append(datos['TURNO'])\n",
    "        seccion.append(datos['SECCION'])\n",
    "        course.append(datos['CURSO'])\n",
    "        linkbackup.append(driver.execute_script('return document.querySelector(\"#region-main > div > div:nth-child(5) > table > tbody > tr > td.cell.c3 > a\").getAttribute(\"href\");'))\n",
    "        tamaño.append(driver.find_element(by=By.XPATH, value='//*[@class=\"cell c2\"]').text)\n",
    "        print(name_backup)\n",
    "    addLinkExcel()      \n",
    "except:\n",
    "    print(\"ERROR\")\n",
    "    addLinkExcel()"
   ]
  },
  {
   "cell_type": "code",
   "execution_count": 28,
   "id": "e482a1f9",
   "metadata": {},
   "outputs": [
    {
     "data": {
      "text/plain": [
       "'https://aula.undc.edu.pe/pluginfile.php/68816/backup/course/yiyi.mbz?forcedownload=1'"
      ]
     },
     "execution_count": 28,
     "metadata": {},
     "output_type": "execute_result"
    }
   ],
   "source": [
    "##ultimo\n",
    "driver.execute_script('return document.querySelector(\"#region-main > div > div:nth-child(5) > table > tbody > tr > td.cell.c3 > a\").getAttribute(\"href\");')\n"
   ]
  },
  {
   "cell_type": "code",
   "execution_count": 30,
   "id": "390e25bc",
   "metadata": {},
   "outputs": [
    {
     "data": {
      "text/plain": [
       "'5.1MB'"
      ]
     },
     "execution_count": 30,
     "metadata": {},
     "output_type": "execute_result"
    }
   ],
   "source": [
    " driver.find_element(by=By.XPATH, value='//*[@class=\"cell c2\"]').text"
   ]
  },
  {
   "cell_type": "code",
   "execution_count": 21,
   "id": "1bfbd9f5",
   "metadata": {},
   "outputs": [
    {
     "name": "stdout",
     "output_type": "stream",
     "text": [
      "catch0\n",
      "4\n",
      "catch1\n",
      "5\n",
      "rompe\n"
     ]
    }
   ],
   "source": [
    "\n",
    "for i in range(100):\n",
    "    try:\n",
    "        #CONTINUAR DESPUES DE LA COPIA DE SEGURIDAD\n",
    "        if(str(i)==\"2\"):\n",
    "            print(\"rompe\")\n",
    "            break;\n",
    "        else:\n",
    "            driver.find_element(by=By.XPATH, value='//*[@class=\"btn btn-primaro\"]').click()\n",
    "        print(\"try\"+str(i))\n",
    "        \n",
    "    except NoSuchElementException:\n",
    "        print(\"catch\"+str(i))\n",
    "        time.sleep(3)\n",
    "        ss=ss+1\n",
    "        print(ss)"
   ]
  }
 ],
 "metadata": {
  "kernelspec": {
   "display_name": "Python 3 (ipykernel)",
   "language": "python",
   "name": "python3"
  },
  "language_info": {
   "codemirror_mode": {
    "name": "ipython",
    "version": 3
   },
   "file_extension": ".py",
   "mimetype": "text/x-python",
   "name": "python",
   "nbconvert_exporter": "python",
   "pygments_lexer": "ipython3",
   "version": "3.9.13"
  }
 },
 "nbformat": 4,
 "nbformat_minor": 5
}
