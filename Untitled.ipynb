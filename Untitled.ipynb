{
 "cells": [
  {
   "cell_type": "code",
   "execution_count": 13,
   "id": "37fe18cb",
   "metadata": {},
   "outputs": [],
   "source": [
    "#SCRIPT CARGA DET LECTIVA DE MANERA MASIVA\n",
    "import pandas as pd\n",
    "import os\n",
    "import errno\n",
    "df = pd.read_excel('EXCEL_TRABAJADO/2023-2-CARPETA-SIG.xlsx')\n",
    "df\n",
    "doctemp=\"\"\n",
    "############################################            METODOS\n",
    "    #ALGORITMO PARA LA FECHA\n",
    "def createDir(nameDir,sem,docente):\n",
    "    path=\"EXCEL_GENERADOS/CARPETA_SIG/\"+docente+\"/\"+nameDir+\"/SEMANA \"+str(sem)\n",
    "    #print(docente+\"/\"+nameDir+\"/SEMANA \"+str(sem))\n",
    "    try:\n",
    "        os.makedirs(path)\n",
    "    except OSError as e:\n",
    "        if e.errno != errno.EEXIST:\n",
    "            raise\n",
    "############################################            METODOS/*\n",
    "\n",
    "for row, datos in df.iterrows():\n",
    "    if datos['FLAG'] == 'SI':\n",
    "        nameDir = datos['NAME_CARPETA']\n",
    "        cari = datos['CARP_INI']\n",
    "        carf = datos['CARP_FIN']\n",
    "        docente = datos['DOCENTE']\n",
    "        for j in range(int(cari),int(carf+1)):\n",
    "            #print(j)\n",
    "            createDir(nameDir,j,docente)\n",
    "        \n",
    "\n",
    "            "
   ]
  }
 ],
 "metadata": {
  "kernelspec": {
   "display_name": "Python 3 (ipykernel)",
   "language": "python",
   "name": "python3"
  },
  "language_info": {
   "codemirror_mode": {
    "name": "ipython",
    "version": 3
   },
   "file_extension": ".py",
   "mimetype": "text/x-python",
   "name": "python",
   "nbconvert_exporter": "python",
   "pygments_lexer": "ipython3",
   "version": "3.9.13"
  }
 },
 "nbformat": 4,
 "nbformat_minor": 5
}
