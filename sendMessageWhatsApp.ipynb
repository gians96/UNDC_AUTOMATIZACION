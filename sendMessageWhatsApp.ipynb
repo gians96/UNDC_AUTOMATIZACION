{
 "cells": [
  {
   "cell_type": "code",
   "execution_count": 1,
   "id": "fa74a81a",
   "metadata": {},
   "outputs": [
    {
     "name": "stderr",
     "output_type": "stream",
     "text": [
      "[WDM] - Downloading: 100%|██████████| 6.80M/6.80M [00:01<00:00, 3.75MB/s]\n"
     ]
    }
   ],
   "source": [
    "from selenium import webdriver\n",
    "from selenium.webdriver.common.by import By\n",
    "from selenium.webdriver.common.keys import Keys\n",
    "import time\n",
    "from selenium.webdriver.chrome.service import Service\n",
    "from webdriver_manager.chrome import ChromeDriverManager\n",
    "driver = webdriver.Chrome(service=Service(ChromeDriverManager().install()))\n",
    "#abrir formulario\n",
    "time.sleep(2.5)\n",
    "url=\"https://web.whatsapp.com/\"\n",
    "driver.get(url)"
   ]
  },
  {
   "cell_type": "code",
   "execution_count": 5,
   "id": "6f09033d",
   "metadata": {},
   "outputs": [
    {
     "name": "stdout",
     "output_type": "stream",
     "text": [
      "1) NO ENVIADO: AG_II-M-A CULTURA AMBIENT\n",
      "1) NO ENVIADO: AG_II-M-A CULTURA AMBIENT\n",
      "2) NO ENVIADO: AG_II-T-B CULTURA AMBIENT\n",
      "2) NO ENVIADO: AG_II-T-B CULTURA AMBIENT\n"
     ]
    },
    {
     "ename": "KeyboardInterrupt",
     "evalue": "",
     "output_type": "error",
     "traceback": [
      "\u001b[1;31m---------------------------------------------------------------------------\u001b[0m",
      "\u001b[1;31mKeyboardInterrupt\u001b[0m                         Traceback (most recent call last)",
      "\u001b[1;32m~\\AppData\\Local\\Temp/ipykernel_348/1905250254.py\u001b[0m in \u001b[0;36m<module>\u001b[1;34m\u001b[0m\n\u001b[0;32m     44\u001b[0m     \u001b[0mtime\u001b[0m\u001b[1;33m.\u001b[0m\u001b[0msleep\u001b[0m\u001b[1;33m(\u001b[0m\u001b[1;36m1\u001b[0m\u001b[1;33m)\u001b[0m\u001b[1;33m\u001b[0m\u001b[1;33m\u001b[0m\u001b[0m\n\u001b[0;32m     45\u001b[0m     \u001b[0mdriver\u001b[0m\u001b[1;33m.\u001b[0m\u001b[0mfind_element\u001b[0m\u001b[1;33m(\u001b[0m\u001b[0mby\u001b[0m\u001b[1;33m=\u001b[0m\u001b[0mBy\u001b[0m\u001b[1;33m.\u001b[0m\u001b[0mXPATH\u001b[0m\u001b[1;33m,\u001b[0m \u001b[0mvalue\u001b[0m\u001b[1;33m=\u001b[0m\u001b[1;34m'//*[@id=\"side\"]/div[1]/div/div/div[2]/div/div[2]'\u001b[0m\u001b[1;33m)\u001b[0m\u001b[1;33m.\u001b[0m\u001b[0msend_keys\u001b[0m\u001b[1;33m(\u001b[0m\u001b[0mnamewsp\u001b[0m\u001b[1;33m)\u001b[0m\u001b[1;33m\u001b[0m\u001b[1;33m\u001b[0m\u001b[0m\n\u001b[1;32m---> 46\u001b[1;33m     \u001b[0mtime\u001b[0m\u001b[1;33m.\u001b[0m\u001b[0msleep\u001b[0m\u001b[1;33m(\u001b[0m\u001b[1;36m1\u001b[0m\u001b[1;33m)\u001b[0m\u001b[1;33m\u001b[0m\u001b[1;33m\u001b[0m\u001b[0m\n\u001b[0m\u001b[0;32m     47\u001b[0m     \u001b[1;31m#da click del primer resultaldo\u001b[0m\u001b[1;33m\u001b[0m\u001b[1;33m\u001b[0m\u001b[0m\n\u001b[0;32m     48\u001b[0m     \u001b[1;32mfor\u001b[0m \u001b[0mj\u001b[0m \u001b[1;32min\u001b[0m \u001b[0mrange\u001b[0m\u001b[1;33m(\u001b[0m\u001b[0mint\u001b[0m\u001b[1;33m(\u001b[0m\u001b[1;36m11\u001b[0m\u001b[1;33m)\u001b[0m\u001b[1;33m)\u001b[0m\u001b[1;33m:\u001b[0m\u001b[1;33m\u001b[0m\u001b[1;33m\u001b[0m\u001b[0m\n",
      "\u001b[1;31mKeyboardInterrupt\u001b[0m: "
     ]
    }
   ],
   "source": [
    "#ENVIO CON IMAGEN\n",
    "# import pandas as pd\n",
    "#NOTA: antes de ejecutar el script, copiar la imagen en clipboard.(click derecho copiar, o ctrl+c)\n",
    "#nombre del excel que contiene los nombres de los grupos de whatsapp\n",
    "import pandas as pd\n",
    "df = pd.read_excel('grupowsp.xlsx')\n",
    "message=\"Buenos dias alumnos(as), en el siguiente formulario se dara a conocer su propuesta de capacitación que quieran recibir de la carrera de Agronomía del año 2023: https://forms.gle/a5HCqTk1UEHV9PQc6\"\n",
    "####################\n",
    "def sendMensaje():\n",
    "    try:\n",
    "        driver.find_element(by=By.XPATH, value='//*[@id=\"main\"]/footer/div[1]/div/span[2]/div/div[2]/div[1]/div').click()\n",
    "        time.sleep(1)\n",
    "        #escribe mensaje\n",
    "        driver.find_element(by=By.XPATH, value='//*[@id=\"main\"]/footer/div[1]/div/span[2]/div/div[2]/div[1]').send_keys(message)\n",
    "        time.sleep(1)        \n",
    "        driver.find_element(by=By.XPATH, value='//*[@id=\"main\"]/footer/div[1]/div/span[2]/div/div[2]/div[1]').send_keys(Keys.CONTROL, 'v').perform()\n",
    "        time.sleep(3)\n",
    "        driver.find_element(by=By.XPATH, value='//*[@id=\"app\"]/div/div/div[2]/div[2]/span/div/span/div/div/div[2]/div/div[2]/div[2]/div/div/span').click()\n",
    "                                                \n",
    "    except:\n",
    "        time.sleep(1)\n",
    "        driver.find_element(by=By.XPATH, value='//*[@id=\"app\"]/div/div/div[2]/div[2]/span/div/span/div/div/div[2]/div/div[2]/div[2]/div/div/span').click()\n",
    "    \n",
    "####################\n",
    "\n",
    "for row, datos in df.iterrows():\n",
    "    #nombre de la columna\n",
    "    x=1\n",
    "    namewsp = datos['NOMBRE_DE_GRUPO']\n",
    "    time.sleep(1)        \n",
    "    #buscador de Chat (persona/grupo)\n",
    "    driver.find_element(by=By.XPATH, value='//*[@id=\"side\"]/div[1]/div/div/div[2]/div/div[2]').clear()\n",
    "    time.sleep(1)\n",
    "    driver.find_element(by=By.XPATH, value='//*[@id=\"side\"]/div[1]/div/div/div[2]/div/div[2]').send_keys(namewsp)\n",
    "    time.sleep(1)\n",
    "    #da click del primer resultaldo\n",
    "    for j in range(int(11)):\n",
    "        try:\n",
    "            #8 CONDICION PARA VER SI  EL CURSO PRIMERO ES EL SELECCIONADO NOMBRE CURSO XLS CON LO QUE SE MUESTRA EN WSP, SI ES QUE SALE DE DOS OPCIONES\n",
    "            #print(driver.find_element(by=By.XPATH, value='//*[@id=\"pane-side\"]/div[1]/div/div/div['+str(11-j)+']/div/div/div/div[2]/div[1]/div[1]').text)\n",
    "            if  namewsp == driver.find_element(by=By.XPATH, value='//*[@id=\"pane-side\"]/div[1]/div/div/div['+str(11-j)+']/div/div/div/div[2]/div[1]/div[1]').text:\n",
    "                driver.find_element(by=By.XPATH, value='//*[@id=\"pane-side\"]/div[1]/div/div/div['+str(11-j)+']').click()\n",
    "                sendMensaje()\n",
    "                print(str(x)+\") ENVIADO: \"+namewsp)\n",
    "                break\n",
    "            else:\n",
    "                print(str(x)+\") NO ENVIADO: \"+namewsp)\n",
    "        except:\n",
    "            x=x\n",
    "    x=x+1\n",
    "    "
   ]
  },
  {
   "cell_type": "code",
   "execution_count": null,
   "id": "ded09b7c",
   "metadata": {},
   "outputs": [
    {
     "name": "stdout",
     "output_type": "stream",
     "text": [
      "9) ENVIADO: AG_IX-M-A LEGUMINOSAS DE\n",
      "9) ENVIADO: AG_IX-T-B LEGUMINOSAS DE\n",
      "9) ENVIADO: AG_IX-M-A FITOPATOLOGÍA A\n",
      "9) ENVIADO: AG_IX-T-B FITOPATOLOGÍA A\n",
      "9) ENVIADO: AG_IX-M-A MANEJO Y CONSER\n",
      "9) ENVIADO: AG_IX-T-B MANEJO Y CONSER\n",
      "9) ENVIADO: AG_IX-M-A SEMINARIO DE TE\n",
      "9) ENVIADO: AG_IX-T-B SEMINARIO DE TE\n",
      "9) ENVIADO: AG_IX-M-A MANEJO DE VIVER\n",
      "9) ENVIADO: AG_IX-T-B MALEZAS - 3233\n",
      "9) NO ENVIADO: AG_V-M-A MECANIZACIÓN AGR\n",
      "9) NO ENVIADO: AG_V-M-A MECANIZACIÓN AGR\n",
      "9) NO ENVIADO: AG_V-M-A MECANIZACIÓN AGR\n",
      "9) NO ENVIADO: AG_V-T-B MECANIZACIÓN AGR\n",
      "9) NO ENVIADO: AG_V-T-B MECANIZACIÓN AGR\n",
      "9) NO ENVIADO: AG_V-T-B MECANIZACIÓN AGR\n",
      "9) ENVIADO: AG_V-M-A FISIOLOGÍA VEGET\n",
      "9) ENVIADO: AG_V-T-B FISIOLOGÍA VEGET\n",
      "9) ENVIADO: AG_V-M-A GENÉTICA VEGETAL\n",
      "9) ENVIADO: AG_V-T-B GENÉTICA VEGETAL\n",
      "9) ENVIADO: AG_V-M-A METEOROLOGÍA - 3\n",
      "9) ENVIADO: AG_V-T-B METEOROLOGÍA - 3\n",
      "9) ENVIADO: AG_V-M-A MICROBIOLOGÍA -\n",
      "9) ENVIADO: AG_V-T-B MICROBIOLOGÍA -\n",
      "9) ENVIADO: AG_V-M-A CONSTITUCIÓN Y D\n",
      "9) ENVIADO: AG_V-T-B CONSTITUCIÓN Y D\n",
      "9) ENVIADO: AG_V-M-A EDAFOLOGIA - 320\n",
      "9) ENVIADO: AG_V-T-B EDAFOLOGIA - 320\n",
      "9) ENVIADO: AG_VI-T-A AGROTECNÍA - 32\n",
      "9) ENVIADO: AG_VI-T-A FERTILIDAD DEL\n",
      "9) NO ENVIADO: AG_VI-T-A PROPAGACIÓN DE\n",
      "9) NO ENVIADO: AG_VI-T-A PROPAGACIÓN DE\n",
      "9) NO ENVIADO: AG_VI-T-A ENTOMOLOGÍA GEN\n",
      "9) NO ENVIADO: AG_VI-T-A ENTOMOLOGÍA GEN\n",
      "9) NO ENVIADO: AG_VI-T-A TOPOGRAFÍA - 32\n",
      "9) NO ENVIADO: AG_VI-T-A TOPOGRAFÍA - 32\n",
      "9) NO ENVIADO: AG_VI-T-A PENSAMIENTO POL\n",
      "9) NO ENVIADO: AG_VI-T-A PENSAMIENTO POL\n",
      "9) NO ENVIADO: AG_VI-T-A PENSAMIENTO POL\n",
      "9) ENVIADO: AG_VII-T-A MEJORAMIENTO G\n",
      "9) ENVIADO: AG_VII-T-A MÉTODOS ESTADÍ\n",
      "9) ENVIADO: AG_VII-T-A MACROECONOMÍA\n",
      "9) ENVIADO: AG_VII-T-A HIDROLOGÍA Y S\n"
     ]
    }
   ],
   "source": [
    "##ENVIO SIN IMAGEN\n",
    "# import pandas as pd\n",
    "#NOTA: antes de ejecutar el script, copiar la imagen en clipboard.(click derecho copiar, o ctrl+c)\n",
    "#nombre del excel que contiene los nombres de los grupos de whatsapp\n",
    "import pandas as pd\n",
    "df = pd.read_excel('EXCEL_TRABAJADO/2023-1.xlsx')\n",
    "message=\"Buenos dias alumnos(as), en el siguiente formulario se dara a conocer su propuesta de capacitación que quieran recibir de la carrera de Agronomía del año 2023: https://forms.gle/a5HCqTk1UEHV9PQc6\"\n",
    "####################\n",
    "def sendMensaje():\n",
    "    try:\n",
    "        time.sleep(1)\n",
    "        #escribe mensaje\n",
    "        driver.find_element(by=By.XPATH, value='//*[@data-testid=\"conversation-compose-box-input\"]').send_keys(message)\n",
    "        time.sleep(1)\n",
    "        driver.find_element(by=By.XPATH, value='//*[@data-testid=\"send\"]').click()\n",
    "        time.sleep(1)\n",
    "        driver.find_element(by=By.XPATH, value='//*[@data-testid=\"search\"]').click()\n",
    "    except:\n",
    "        time.sleep(1)\n",
    "        driver.find_element(by=By.XPATH, value='//*[@id=\"main\"]/footer/div[1]/div/span[2]/div/div[2]/div[2]/button').click()\n",
    "    \n",
    "####################\n",
    "\n",
    "for row, datos in df.iterrows():\n",
    "    if datos['FLAG']=='SI':\n",
    "        \n",
    "        time.sleep(1)\n",
    "        #buscador de Chat (persona/grupo)\n",
    "        driver.find_element(by=By.XPATH, value='//*[@data-testid=\"chat-list-search\"]').send_keys(datos['NOMBRE_DE_GRUPO'])\n",
    "        time.sleep(1)\n",
    "        #da click del primer resultaldo\n",
    "        for j in range(int(11)):\n",
    "            try:\n",
    "                if  datos['NOMBRE_DE_GRUPO'] == driver.find_element(by=By.XPATH, value='//*[@data-testid=\"list-item-'+str(j)+'\"]//span//span').text:\n",
    "                    driver.find_element(by=By.XPATH, value='//*[@data-testid=\"list-item-'+str(j)+'\"]//span//span').click()\n",
    "                    sendMensaje()\n",
    "                    print(str(j)+\") ENVIADO: \"+datos['NOMBRE_DE_GRUPO'])\n",
    "                    break\n",
    "                else:\n",
    "                    print(str(j)+\") NO ENVIADO: \"+datos['NOMBRE_DE_GRUPO'])\n",
    "            except:\n",
    "                s=0\n",
    "        driver.find_element(by=By.XPATH, value='//*[@data-testid=\"search\"]').click()\n",
    "\n",
    "    "
   ]
  },
  {
   "cell_type": "code",
   "execution_count": 100,
   "id": "ef4e69b6",
   "metadata": {},
   "outputs": [],
   "source": [
    "\n",
    "for j in range(int(11)):\n",
    "    try:\n",
    "        if  \"AG_IX-T-B MANEJO Y CONSER\" == driver.find_element(by=By.XPATH, value='//*[@data-testid=\"list-item-'+str(j)+'\"]//span//span').text:\n",
    "            driver.find_element(by=By.XPATH, value='//*[@data-testid=\"list-item-'+str(j)+'\"]//span//span').click()\n",
    "            break\n",
    "            print(\"entra\")\n",
    "    except:\n",
    "        print(j)\n",
    "        \n",
    "        "
   ]
  },
  {
   "cell_type": "code",
   "execution_count": 93,
   "id": "dcc19edb",
   "metadata": {},
   "outputs": [
    {
     "data": {
      "text/plain": [
       "'AG_IX-T-B MANEJO Y CONSER'"
      ]
     },
     "execution_count": 93,
     "metadata": {},
     "output_type": "execute_result"
    }
   ],
   "source": [
    "driver.find_element(by=By.XPATH, value='//*[@data-testid=\"list-item-0\"]//span//span').text"
   ]
  }
 ],
 "metadata": {
  "kernelspec": {
   "display_name": "Python 3 (ipykernel)",
   "language": "python",
   "name": "python3"
  },
  "language_info": {
   "codemirror_mode": {
    "name": "ipython",
    "version": 3
   },
   "file_extension": ".py",
   "mimetype": "text/x-python",
   "name": "python",
   "nbconvert_exporter": "python",
   "pygments_lexer": "ipython3",
   "version": "3.9.13"
  }
 },
 "nbformat": 4,
 "nbformat_minor": 5
}
