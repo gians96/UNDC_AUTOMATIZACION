{
 "cells": [
  {
   "cell_type": "code",
   "execution_count": 1,
   "id": "2651dcae",
   "metadata": {},
   "outputs": [],
   "source": [
    "from selenium import webdriver\n",
    "from selenium.webdriver.common.by import By\n",
    "import time\n",
    "from selenium.webdriver.chrome.service import Service\n",
    "from webdriver_manager.chrome import ChromeDriverManager\n",
    "import os\n",
    "simp_path = '.env'\n",
    "abs_path = os.path.abspath(simp_path)\n",
    "CREDENTIAL={'EMAIL':'','PASSWORD':''}\n",
    "with open(abs_path,\"r\") as archivo:\n",
    "    for linea in archivo:        \n",
    "        if (str(linea.strip('\\n')).split('='))[0] == \"EMAIL\":\n",
    "            CREDENTIAL[\"EMAIL\"]=(str(linea.strip('\\n')).split('='))[1]\n",
    "        if (str(linea.strip('\\n')).split('='))[0] == \"PASSWORD\":\n",
    "            CREDENTIAL[\"PASSWORD\"]=(str(linea.strip('\\n')).split('='))[1]\n",
    "driver = webdriver.Chrome(service=Service(ChromeDriverManager().install()))\n",
    "#abrir formulario\n",
    "\n",
    "\n",
    "driver.get('https://sivireno.undc.edu.pe/index_login.php')\n",
    "driver.find_element(by=By.XPATH, value='/html/body/div[1]/div/div/form/div[1]/a').click()\n",
    "driver.find_element(by=By.XPATH, value='//*[@id=\"identifierId\"]').send_keys(CREDENTIAL[\"EMAIL\"])\n",
    "driver.find_element(by=By.XPATH, value='//*[@id=\"identifierNext\"]/div/button/span').click()\n",
    "for j in range(10):\n",
    "    try:\n",
    "        driver.find_element(by=By.XPATH, value='//*[@id=\"password\"]/div[1]/div/div[1]/input').send_keys(CREDENTIAL[\"PASSWORD\"])\n",
    "        driver.find_element(by=By.XPATH, value='//*[@id=\"passwordNext\"]/div/button/span').click()\n",
    "        break\n",
    "    except:\n",
    "        time.sleep(1)"
   ]
  },
  {
   "cell_type": "code",
   "execution_count": 4,
   "id": "e80115e9",
   "metadata": {},
   "outputs": [
    {
     "name": "stdout",
     "output_type": "stream",
     "text": [
      "TERMINO PROCESO\n"
     ]
    }
   ],
   "source": [
    "##SCRIPT EXTRAER TODOS LOS LINK DE CARGA LECTIVA Y NO LECTIVA\n",
    "import pandas as pd\n",
    "from selenium.webdriver.common.action_chains import ActionChains\n",
    "import re\n",
    "from selenium.common.exceptions import NoSuchElementException\n",
    "import time\n",
    "asig = []\n",
    "ciclo = []\n",
    "t = []\n",
    "s = []\n",
    "c = []\n",
    "docen = []\n",
    "cl = []\n",
    "cnl = []\n",
    "av=[]\n",
    "sila=[]\n",
    "baseURL=\"https://sivireno.undc.edu.pe/\"\n",
    "##la cantidad que te muestra el sivireno\n",
    "cantlist=100\n",
    "\n",
    "###########################################CREACION DE METODOS#################################################################\n",
    "\n",
    "def addLinkExcel():\n",
    "    df = pd.DataFrame({ 'ASIGNATURA': asig,'CICLO': ciclo,'TURNO': t,'SECCION': s,'CANT': c,'DOCENTE': docen,'CL': cl,'CNL': cnl,'AV':av,'SILABUS':sila})\n",
    "    df = df[['ASIGNATURA', 'CICLO','TURNO','SECCION','CANT','DOCENTE','CL','CNL','AV','SILABUS']]\n",
    "    writer = pd.ExcelWriter('EXCEL_GENERADOS/CREATE_LIST_CURSOS_AGRONOMIA'+time.strftime(\"%Y%m%d-%H-%M-%S\")+'.xlsx')\n",
    "    df.to_excel(writer, 'Sheet', index=False)\n",
    "    #writer.save()\n",
    "    writer.close()\n",
    "    print(\"TERMINO PROCESO\")\n",
    "###########################################CREACION DE METODOS#################################################################\n",
    "try:\n",
    "    for j in range(int(cantlist)):\n",
    "        #SOLO PARA LA MODALIDAD DEL CURSO EN M\n",
    "        if driver.find_element(by=By.XPATH, value='//*[@id=\"app\"]/div[2]/table/tbody/tr['+str(j+1)+']/td[3]').text ==\"M\":\n",
    "            asig.append(driver.find_element(by=By.XPATH, value='//*[@id=\"app\"]/div[2]/table/tbody/tr['+str(j+1)+']/td[4]').text)\n",
    "            ciclo.append(driver.find_element(by=By.XPATH, value='//*[@id=\"app\"]/div[2]/table/tbody/tr['+str(j+1)+']/td[5]').text)\n",
    "            t.append(driver.find_element(by=By.XPATH, value='//*[@id=\"app\"]/div[2]/table/tbody/tr['+str(j+1)+']/td[6]').text)\n",
    "            s.append(driver.find_element(by=By.XPATH, value='//*[@id=\"app\"]/div[2]/table/tbody/tr['+str(j+1)+']/td[7]').text)\n",
    "            c.append(driver.find_element(by=By.XPATH, value='//*[@id=\"app\"]/div[2]/table/tbody/tr['+str(j+1)+']/td[8]').text)\n",
    "            docen.append(driver.find_element(by=By.XPATH, value='//*[@id=\"app\"]/div[2]/table/tbody/tr['+str(j+1)+']/td[9]').text)\n",
    "            cl.append(baseURL+driver.execute_script('return document.querySelector(\"#app > div.table-responsive > table > tbody  > tr:nth-child('+str(j+1)+') > td:nth-child(10) > a:nth-child(1)\").getAttribute(\"href\");'))\n",
    "            cnl.append(baseURL+driver.execute_script('return document.querySelector(\"#app > div.table-responsive > table > tbody > tr:nth-child('+str(j+1)+') > td:nth-child(10) > a:nth-child(2)\").getAttribute(\"href\");'))\n",
    "            av.append(driver.execute_script('return document.querySelector(\"#app > div.table-responsive > table > tbody  > tr:nth-child('+str(j+1)+') > td:nth-child(13) > a\").getAttribute(\"href\");'))\n",
    "            sila.append(driver.execute_script('return document.querySelector(\"#app > div.table-responsive > table > tbody > tr:nth-child('+str(j+1)+') > td:nth-child(11) > a\").getAttribute(\"href\");'))\n",
    "    addLinkExcel()\n",
    "except:\n",
    "    addLinkExcel()\n"
   ]
  }
 ],
 "metadata": {
  "kernelspec": {
   "display_name": "Python 3 (ipykernel)",
   "language": "python",
   "name": "python3"
  },
  "language_info": {
   "codemirror_mode": {
    "name": "ipython",
    "version": 3
   },
   "file_extension": ".py",
   "mimetype": "text/x-python",
   "name": "python",
   "nbconvert_exporter": "python",
   "pygments_lexer": "ipython3",
   "version": "3.9.13"
  }
 },
 "nbformat": 4,
 "nbformat_minor": 5
}
