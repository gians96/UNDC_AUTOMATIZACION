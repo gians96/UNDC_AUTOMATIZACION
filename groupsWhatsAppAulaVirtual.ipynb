{
 "cells": [
  {
   "cell_type": "code",
   "execution_count": 269,
   "id": "fab1255a",
   "metadata": {},
   "outputs": [
    {
     "name": "stderr",
     "output_type": "stream",
     "text": [
      "C:\\Users\\gians\\AppData\\Local\\Temp/ipykernel_3376/2342799910.py:5: DeprecationWarning: executable_path has been deprecated, please pass in a Service object\n",
      "  driver = webdriver.Chrome('chromedriver.exe')\n"
     ]
    }
   ],
   "source": [
    "from selenium import webdriver\n",
    "from selenium.webdriver.common.by import By\n",
    "\n",
    "import time\n",
    "driver = webdriver.Chrome('chromedriver.exe')\n",
    "\n",
    "import os\n",
    "simp_path = '.env'\n",
    "abs_path = os.path.abspath(simp_path)\n",
    "CREDENTIAL={'EMAIL':'','PASSWORD':''}\n",
    "with open(abs_path,\"r\") as archivo:\n",
    "    for linea in archivo:        \n",
    "        if (str(linea.strip('\\n')).split('='))[0] == \"EMAIL\":\n",
    "            CREDENTIAL[\"EMAIL\"]=(str(linea.strip('\\n')).split('='))[1]\n",
    "        if (str(linea.strip('\\n')).split('='))[0] == \"PASSWORD\":\n",
    "            CREDENTIAL[\"PASSWORD\"]=(str(linea.strip('\\n')).split('='))[1]\n",
    "\n",
    "\n",
    "#abrir formulario\n",
    "driver.get('https://aula.undc.edu.pe/admin/user.php')\n",
    "driver.find_element(by=By.XPATH, value='//*[@id=\"region-main\"]/div/div[2]/div/div/div/div/div/div[2]/div[4]/div/a').click()\n",
    "time.sleep(1.5)\n",
    "driver.find_element(by=By.XPATH, value='//*[@id=\"identifierId\"]').send_keys(CREDENTIAL[\"EMAIL\"])\n",
    "driver.find_element(by=By.XPATH, value='//*[@id=\"identifierNext\"]/div/button/span').click()\n",
    "time.sleep(2)\n",
    "driver.find_element(by=By.XPATH, value='//*[@id=\"password\"]/div[1]/div/div[1]/input').send_keys(CREDENTIAL[\"PASSWORD\"])\n",
    "driver.find_element(by=By.XPATH, value='//*[@id=\"passwordNext\"]/div/button/span').click()\n",
    "time.sleep(2)\n",
    "\n"
   ]
  },
  {
   "cell_type": "code",
   "execution_count": 283,
   "id": "33ac20e3",
   "metadata": {},
   "outputs": [],
   "source": [
    "# import pandas as pd\n",
    "#NOTA: antes de ejecutar el script, copiar la imagen en clipboard.(click derecho copiar, o ctrl+c)\n",
    "#nombre del excel que contiene los nombres de los grupos de whatsapp\n",
    "import pandas as pd\n",
    "from selenium.webdriver.common.action_chains import ActionChains\n",
    "import re\n",
    "from selenium.common.exceptions import NoSuchElementException\n",
    "import time\n",
    "df = pd.read_excel('grupowsp.xlsx')\n",
    "###########################################CREACION DE METODOS#################################################################\n",
    "\n",
    "###########################################CREACION DE METODOS#################################################################\n",
    "try:\n",
    "    for row, datos in df.iterrows():\n",
    "        #nombre de la columna\n",
    "        urlCourse = datos['LINK_AULA_VIRTUAL']\n",
    "        linkWsp = datos['TAG_AULA_VIRTUAL']\n",
    "        driver.get(urlCourse)\n",
    "        time.sleep(2)\n",
    "        \n",
    "        #Confirmar si esta activado la edidcion\n",
    "        \n",
    "        ll = driver.find_element(by=By.XPATH, value='//*[@id=\"page-header\"]/div/div/div/div[2]/div[2]/div/form')\n",
    "        if ll.text==\"Activar edición\":\n",
    "            driver.find_element(by=By.XPATH, value='//*[@id=\"page-header\"]/div/div/div/div[2]/div[2]/div/form').click()\n",
    "            time.sleep(2)\n",
    "        #DAR CLIC EN AÑADIR UNA ACTIVIDAD O UN RECURSO\n",
    "        driver.find_element(by=By.XPATH, value='//*[@class=\"section-modchooser-link btn btn-link\"]').click()\n",
    "        time.sleep(5)\n",
    "        #DAR CLIC EN AÑADIR UNA ETIQUETA\n",
    "        driver.find_element(by=By.XPATH, value='//*[@id=\"all-4\"]/div/div[10]/div/a/div[2]').click()\n",
    "        time.sleep(2)\n",
    "        driver.find_element(by=By.XPATH, value='//*[@class=\"atto_collapse_button\"]').click()\n",
    "        time.sleep(1)\n",
    "        driver.find_element(by=By.XPATH, value='//*[@class=\"atto_html_button\"]').click()\n",
    "        time.sleep(1)\n",
    "        ActionChains(driver).send_keys(linkWsp).perform()\n",
    "        time.sleep(3)\n",
    "        driver.find_element(by=By.XPATH, value='//*[@id=\"id_submitbutton2\"]').click()\n",
    "except:\n",
    "    print(\"\")\n"
   ]
  },
  {
   "cell_type": "code",
   "execution_count": 273,
   "id": "118d138d",
   "metadata": {},
   "outputs": [],
   "source": [
    "driver.find_element(by=By.XPATH, value='//*[@id=\"all-4\"]/div/div[10]/div/a/div[2]').click()"
   ]
  },
  {
   "cell_type": "code",
   "execution_count": 263,
   "id": "e21cc986",
   "metadata": {},
   "outputs": [],
   "source": []
  },
  {
   "cell_type": "code",
   "execution_count": 267,
   "id": "e7e67a8b",
   "metadata": {},
   "outputs": [],
   "source": []
  },
  {
   "cell_type": "code",
   "execution_count": 206,
   "id": "cd53e152",
   "metadata": {},
   "outputs": [],
   "source": []
  }
 ],
 "metadata": {
  "kernelspec": {
   "display_name": "Python 3 (ipykernel)",
   "language": "python",
   "name": "python3"
  },
  "language_info": {
   "codemirror_mode": {
    "name": "ipython",
    "version": 3
   },
   "file_extension": ".py",
   "mimetype": "text/x-python",
   "name": "python",
   "nbconvert_exporter": "python",
   "pygments_lexer": "ipython3",
   "version": "3.9.7"
  }
 },
 "nbformat": 4,
 "nbformat_minor": 5
}
