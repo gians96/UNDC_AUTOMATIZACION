{
 "cells": [
  {
   "cell_type": "code",
   "execution_count": null,
   "id": "bbc4a4ff",
   "metadata": {},
   "outputs": [],
   "source": []
  },
  {
   "cell_type": "code",
   "execution_count": 1,
   "id": "fab1255a",
   "metadata": {},
   "outputs": [],
   "source": [
    "from selenium import webdriver\n",
    "from selenium.webdriver.common.by import By\n",
    "import time\n",
    "from selenium.webdriver.chrome.service import Service\n",
    "from webdriver_manager.chrome import ChromeDriverManager\n",
    "import os\n",
    "simp_path = '.env'\n",
    "abs_path = os.path.abspath(simp_path)\n",
    "CREDENTIAL={'EMAIL':'','PASSWORD':''}\n",
    "with open(abs_path,\"r\") as archivo:\n",
    "    for linea in archivo:        \n",
    "        if (str(linea.strip('\\n')).split('='))[0] == \"EMAIL\":\n",
    "            CREDENTIAL[\"EMAIL\"]=(str(linea.strip('\\n')).split('='))[1]\n",
    "        if (str(linea.strip('\\n')).split('='))[0] == \"PASSWORD\":\n",
    "            CREDENTIAL[\"PASSWORD\"]=(str(linea.strip('\\n')).split('='))[1]\n",
    "driver = webdriver.Chrome(service=Service(ChromeDriverManager().install()))\n",
    "#abrir formulario\n",
    "\n",
    "\n",
    "driver.get('https://aula.undc.edu.pe/admin/user.php')\n",
    "driver.find_element(by=By.XPATH, value='//*[@class=\"btn login-identityprovider-btn btn-block \"]').click()\n",
    "driver.find_element(by=By.XPATH, value='//*[@id=\"identifierId\"]').send_keys(CREDENTIAL[\"EMAIL\"])\n",
    "driver.find_element(by=By.XPATH, value='//*[@id=\"identifierNext\"]/div/button/span').click()\n",
    "time.sleep(2)\n",
    "for j in range(10):\n",
    "    try:\n",
    "        driver.find_element(by=By.XPATH, value='//*[@id=\"password\"]/div[1]/div/div[1]/input').send_keys(CREDENTIAL[\"PASSWORD\"])\n",
    "        driver.find_element(by=By.XPATH, value='//*[@id=\"passwordNext\"]/div/button/span').click()\n",
    "        break\n",
    "    except:\n",
    "        time.sleep(1)\n",
    "#driver.find_element(by=By.XPATH, value='//*[@id=\"password\"]/div[1]/div/div[1]/input').send_keys(CREDENTIAL[\"PASSWORD\"])\n",
    "#driver.find_element(by=By.XPATH, value='//*[@id=\"passwordNext\"]/div/button/span').click()\n",
    "time.sleep(2)"
   ]
  },
  {
   "cell_type": "code",
   "execution_count": null,
   "id": "33ac20e3",
   "metadata": {},
   "outputs": [],
   "source": [
    "# import pandas as pd\n",
    "#NOTA: antes de ejecutar el script, copiar la imagen en clipboard.(click derecho copiar, o ctrl+c)\n",
    "#nombre del excel que contiene los nombres de los grupos de whatsapp\n",
    "import pandas as pd\n",
    "from selenium.webdriver.common.action_chains import ActionChains\n",
    "import re\n",
    "from selenium.common.exceptions import NoSuchElementException\n",
    "import time\n",
    "df = pd.read_excel('EXCEL_TRABAJADO/2024-1.xlsx')\n",
    "\n",
    "###########################################CREACION DE METODOS#################################################################\n",
    "\n",
    "###########################################CREACION DE METODOS#################################################################\n",
    "try:\n",
    "    for row, datos in df.iterrows():\n",
    "        #nombre de la columna\n",
    "        if datos['FLAG'] == 'SI':\n",
    "            urlCourse = datos['LINK_AULA_VIRTUAL']\n",
    "            linkWsp = datos['TAG_AULA_VIRTUAL']\n",
    "            driver.get(urlCourse)\n",
    "            if driver.execute_script('return document.getElementsByName(\"setmode\")[0].checked.toString();')  == \"false\":\n",
    "                #Confirmar si esta activado la edidcion\n",
    "                driver.find_element(by=By.XPATH, value='//*[@name=\"setmode\"]').click()\n",
    "            time.sleep(1.8)\n",
    "            #DAR CLIC EN AÑADIR UNA ACTIVIDAD O UN RECURSO\n",
    "            driver.find_element(by=By.XPATH, value='//*[@class=\"btn btn-link text-decoration-none section-modchooser section-modchooser-link activity-add d-flex align-items-center p-3 mb-3\"]').click()\n",
    "            time.sleep(1.8)\n",
    "            #DAR CLIC EN AÑADIR UNA ETIQUETA\n",
    "            driver.find_element(by=By.XPATH, value='//*[@title=\"Añadir un nuevo Etiqueta\"]').click()\n",
    "            time.sleep(1.8)\n",
    "            driver.find_element(by=By.XPATH, value='//*[@class=\"atto_collapse_button\"]').click()\n",
    "            time.sleep(1)\n",
    "            driver.find_element(by=By.XPATH, value='//*[@class=\"atto_html_button\"]').click()\n",
    "            time.sleep(1)\n",
    "            ActionChains(driver).send_keys(linkWsp).perform()\n",
    "            time.sleep(1.8)\n",
    "            driver.find_element(by=By.XPATH, value='//*[@id=\"id_submitbutton2\"]').click()\n",
    "except:\n",
    "    s=\"\"\n"
   ]
  },
  {
   "cell_type": "code",
   "execution_count": 58,
   "id": "f3b4f685",
   "metadata": {},
   "outputs": [],
   "source": [
    "driver.find_element(by=By.XPATH, value='//*[@title=\"Añadir un nuevo Etiqueta\"]').click()"
   ]
  }
 ],
 "metadata": {
  "kernelspec": {
   "display_name": "Python 3 (ipykernel)",
   "language": "python",
   "name": "python3"
  },
  "language_info": {
   "codemirror_mode": {
    "name": "ipython",
    "version": 3
   },
   "file_extension": ".py",
   "mimetype": "text/x-python",
   "name": "python",
   "nbconvert_exporter": "python",
   "pygments_lexer": "ipython3",
   "version": "3.11.5"
  }
 },
 "nbformat": 4,
 "nbformat_minor": 5
}
